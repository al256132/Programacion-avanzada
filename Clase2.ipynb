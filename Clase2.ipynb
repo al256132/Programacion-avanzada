{
  "nbformat": 4,
  "nbformat_minor": 0,
  "metadata": {
    "colab": {
      "provenance": [],
      "authorship_tag": "ABX9TyNDp9CTA51SO5xPmfwnvdDU",
      "include_colab_link": true
    },
    "kernelspec": {
      "name": "python3",
      "display_name": "Python 3"
    },
    "language_info": {
      "name": "python"
    }
  },
  "cells": [
    {
      "cell_type": "markdown",
      "metadata": {
        "id": "view-in-github",
        "colab_type": "text"
      },
      "source": [
        "<a href=\"https://colab.research.google.com/github/al256132/Programacion-avanzada/blob/main/Clase2.ipynb\" target=\"_parent\"><img src=\"https://colab.research.google.com/assets/colab-badge.svg\" alt=\"Open In Colab\"/></a>"
      ]
    },
    {
      "cell_type": "markdown",
      "source": [],
      "metadata": {
        "id": "xM8K0vDCWKu1"
      }
    },
    {
      "cell_type": "markdown",
      "source": [
        "USO DEL IF\n",
        "IF SOLO TOMA EN CUENTA SI ES TRUE\n",
        "IF CASE SON CASOS DONDE\n"
      ],
      "metadata": {
        "id": "6D05HFXXWMdB"
      }
    },
    {
      "cell_type": "markdown",
      "source": [],
      "metadata": {
        "id": "VdUDzOp9Whob"
      }
    },
    {
      "cell_type": "code",
      "source": [
        "a=6\n",
        "print(a)\n",
        "print('La variable posee un valor de {}'.format(a))\n",
        "print(f'La variable posee un valor de {a}')\n",
        "print('La variable posee un valor de ',a)\n"
      ],
      "metadata": {
        "id": "zYNS94e9Wide"
      },
      "execution_count": null,
      "outputs": []
    },
    {
      "cell_type": "markdown",
      "source": [
        "IF SOLO"
      ],
      "metadata": {
        "id": "PdTnVGtEWqLc"
      }
    },
    {
      "cell_type": "code",
      "source": [
        "try:\n",
        "    numero= float(input(\"Ingrese un numero\"))\n",
        "    if(numero>0):\n",
        "        print(\"Numero es {} es positivo\".format(numero))\n",
        "    else:\n",
        "        print(\"Numero es {} es negativo\".format(numero))\n",
        "except:\n",
        "    print('Dato no valido')"
      ],
      "metadata": {
        "colab": {
          "base_uri": "https://localhost:8080/"
        },
        "id": "GDC6kjvdWo-Q",
        "outputId": "a6b91934-3fea-4a34-80e9-7d0c0182cbb4"
      },
      "execution_count": null,
      "outputs": [
        {
          "output_type": "stream",
          "name": "stdout",
          "text": [
            "Ingrese un numero4\n",
            "Numero es 4.0 es positivo\n"
          ]
        }
      ]
    },
    {
      "cell_type": "code",
      "source": [
        "\n",
        "numero= float(input(\"Ingrese un numero\"))\n",
        "try:\n",
        "    numero= int(numero)\n",
        "    try:\n",
        "      numero=float(numero)\n",
        "    except:\n",
        "      numero\n",
        "except:\n",
        "    print('No es numero')\n",
        "\n",
        "    if(numero>0):\n",
        "        print(\"Numero es {} es positivo\".format(numero))\n",
        "    else:\n",
        "        print(\"Numero es {} es negativo\".format(numero))\n"
      ],
      "metadata": {
        "id": "aonRzv1Vc2Y9"
      },
      "execution_count": null,
      "outputs": []
    },
    {
      "cell_type": "code",
      "source": [
        "\n",
        "numero= float(input(\"Ingrese un numero\"))\n",
        "if(numero>0) and (numero!=5):\n",
        "    print(\"Numero es {} es positivo\".format(numero))\n",
        "elif(numero==5):\n",
        "    print(\"El Numero {} si es 5\".format(numero))\n",
        "else:\n",
        "    print(\"Numero es {} es negativo\".format(numero))\n"
      ],
      "metadata": {
        "id": "tK6BoYBNfbak"
      },
      "execution_count": null,
      "outputs": []
    },
    {
      "cell_type": "code",
      "source": [],
      "metadata": {
        "id": "Cu4OZ8cGikRR"
      },
      "execution_count": null,
      "outputs": []
    },
    {
      "cell_type": "markdown",
      "source": [
        "FOR EN PYTHON\n",
        "FOR VARIABLE IN OBJETO_ITERABLE:"
      ],
      "metadata": {
        "id": "aIK5rJdtjBdy"
      }
    },
    {
      "cell_type": "markdown",
      "source": [
        "For codigo que sse va a ejecutar de manera ciclica durante una cantidad de n veces, ejecutar una operacion no automatizada por n cantidad de veces"
      ],
      "metadata": {
        "id": "afg006xIiYZh"
      }
    },
    {
      "cell_type": "code",
      "source": [
        "papitas=2\n",
        "lista = [1,2,3,4,5,'a','b','c',1.25,True]\n",
        "for i in lista: #lista es la que contiene los valores lista[2:] lista[:2]\n",
        "    print(i,end=\",\") #end=\",\" para lista horizontal\n",
        "\n"
      ],
      "metadata": {
        "colab": {
          "base_uri": "https://localhost:8080/"
        },
        "id": "eSh979-wiIDE",
        "outputId": "346d2813-739a-4fed-9673-f8607e281af1"
      },
      "execution_count": null,
      "outputs": [
        {
          "output_type": "stream",
          "name": "stdout",
          "text": [
            "1,2,3,4,5,a,b,c,1.25,True,"
          ]
        }
      ]
    },
    {
      "cell_type": "code",
      "source": [
        "for i in range(11,2,-2):  # i in range(2,11,2) el ultimo 2 imprimie de 2 en dos\n",
        "    print(i)"
      ],
      "metadata": {
        "id": "G7vQdnTYmFdJ",
        "colab": {
          "base_uri": "https://localhost:8080/"
        },
        "outputId": "05e370ff-c218-49fc-caa9-51d3f5590a21"
      },
      "execution_count": null,
      "outputs": [
        {
          "output_type": "stream",
          "name": "stdout",
          "text": [
            "11\n",
            "9\n",
            "7\n",
            "5\n",
            "3\n"
          ]
        }
      ]
    }
  ]
}