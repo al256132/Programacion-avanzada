{
  "nbformat": 4,
  "nbformat_minor": 0,
  "metadata": {
    "colab": {
      "provenance": [],
      "mount_file_id": "10Iw3SrekaJY-5L3Q3tDYcSvP3mZvjeph",
      "authorship_tag": "ABX9TyOjaCui2MolgeOyzS2g3msJ",
      "include_colab_link": true
    },
    "kernelspec": {
      "name": "python3",
      "display_name": "Python 3"
    },
    "language_info": {
      "name": "python"
    }
  },
  "cells": [
    {
      "cell_type": "markdown",
      "metadata": {
        "id": "view-in-github",
        "colab_type": "text"
      },
      "source": [
        "<a href=\"https://colab.research.google.com/github/al256132/Programacion-avanzada/blob/main/Untitled0.ipynb\" target=\"_parent\"><img src=\"https://colab.research.google.com/assets/colab-badge.svg\" alt=\"Open In Colab\"/></a>"
      ]
    },
    {
      "cell_type": "markdown",
      "source": [
        "#**Ejemplo de conexion de google drive a google colab**"
      ],
      "metadata": {
        "id": "oVq1ARlH9D-U"
      }
    },
    {
      "cell_type": "code",
      "source": [
        "print('Hola que tal')"
      ],
      "metadata": {
        "colab": {
          "base_uri": "https://localhost:8080/"
        },
        "id": "0y2o29KJ9SPI",
        "outputId": "e18c701b-2446-479d-934b-2f685e154c0b"
      },
      "execution_count": 1,
      "outputs": [
        {
          "output_type": "stream",
          "name": "stdout",
          "text": [
            "Hola que tal\n"
          ]
        }
      ]
    }
  ]
}